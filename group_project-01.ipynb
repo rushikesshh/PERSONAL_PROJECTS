{
 "cells": [
  {
   "cell_type": "code",
   "execution_count": 1,
   "id": "9db4d041",
   "metadata": {},
   "outputs": [],
   "source": [
    "import pandas as pd\n",
    "import numpy as np"
   ]
  },
  {
   "cell_type": "code",
   "execution_count": 2,
   "id": "968e9c15",
   "metadata": {},
   "outputs": [],
   "source": [
    "data = pd.read_csv(\"D:\\\\RUSHIKESH\\\\EXCEL-R\\\\PROJECTS\\\\Gold-price\\\\Datasets\\\\GoldPrice.csv\",index_col=0, parse_dates=True)"
   ]
  },
  {
   "cell_type": "code",
   "execution_count": 3,
   "id": "ba07ba24",
   "metadata": {},
   "outputs": [
    {
     "data": {
      "text/html": [
       "<div>\n",
       "<style scoped>\n",
       "    .dataframe tbody tr th:only-of-type {\n",
       "        vertical-align: middle;\n",
       "    }\n",
       "\n",
       "    .dataframe tbody tr th {\n",
       "        vertical-align: top;\n",
       "    }\n",
       "\n",
       "    .dataframe thead th {\n",
       "        text-align: right;\n",
       "    }\n",
       "</style>\n",
       "<table border=\"1\" class=\"dataframe\">\n",
       "  <thead>\n",
       "    <tr style=\"text-align: right;\">\n",
       "      <th></th>\n",
       "      <th>Gold_Price</th>\n",
       "    </tr>\n",
       "    <tr>\n",
       "      <th>Date</th>\n",
       "      <th></th>\n",
       "    </tr>\n",
       "  </thead>\n",
       "  <tbody>\n",
       "    <tr>\n",
       "      <th>2020-03-04</th>\n",
       "      <td>38782</td>\n",
       "    </tr>\n",
       "    <tr>\n",
       "      <th>2020-03-05</th>\n",
       "      <td>39246</td>\n",
       "    </tr>\n",
       "    <tr>\n",
       "      <th>2020-03-06</th>\n",
       "      <td>40061</td>\n",
       "    </tr>\n",
       "    <tr>\n",
       "      <th>2020-03-09</th>\n",
       "      <td>39971</td>\n",
       "    </tr>\n",
       "    <tr>\n",
       "      <th>2020-03-10</th>\n",
       "      <td>39570</td>\n",
       "    </tr>\n",
       "    <tr>\n",
       "      <th>...</th>\n",
       "      <td>...</td>\n",
       "    </tr>\n",
       "    <tr>\n",
       "      <th>2022-02-28</th>\n",
       "      <td>46420</td>\n",
       "    </tr>\n",
       "    <tr>\n",
       "      <th>2022-03-01</th>\n",
       "      <td>46715</td>\n",
       "    </tr>\n",
       "    <tr>\n",
       "      <th>2022-03-02</th>\n",
       "      <td>47102</td>\n",
       "    </tr>\n",
       "    <tr>\n",
       "      <th>2022-03-03</th>\n",
       "      <td>47251</td>\n",
       "    </tr>\n",
       "    <tr>\n",
       "      <th>2022-03-04</th>\n",
       "      <td>47793</td>\n",
       "    </tr>\n",
       "  </tbody>\n",
       "</table>\n",
       "<p>523 rows × 1 columns</p>\n",
       "</div>"
      ],
      "text/plain": [
       "            Gold_Price\n",
       "Date                  \n",
       "2020-03-04       38782\n",
       "2020-03-05       39246\n",
       "2020-03-06       40061\n",
       "2020-03-09       39971\n",
       "2020-03-10       39570\n",
       "...                ...\n",
       "2022-02-28       46420\n",
       "2022-03-01       46715\n",
       "2022-03-02       47102\n",
       "2022-03-03       47251\n",
       "2022-03-04       47793\n",
       "\n",
       "[523 rows x 1 columns]"
      ]
     },
     "execution_count": 3,
     "metadata": {},
     "output_type": "execute_result"
    }
   ],
   "source": [
    "data"
   ]
  },
  {
   "cell_type": "code",
   "execution_count": 4,
   "id": "30ad8608",
   "metadata": {},
   "outputs": [
    {
     "data": {
      "text/plain": [
       "Gold_Price    int64\n",
       "dtype: object"
      ]
     },
     "execution_count": 4,
     "metadata": {},
     "output_type": "execute_result"
    }
   ],
   "source": [
    "data.dtypes"
   ]
  },
  {
   "cell_type": "markdown",
   "id": "80832e27",
   "metadata": {},
   "source": [
    "## EDA :-"
   ]
  },
  {
   "cell_type": "markdown",
   "id": "db8b1c86",
   "metadata": {},
   "source": [
    "- as the data is not given regular we have make it regular using resample technique :-"
   ]
  },
  {
   "cell_type": "code",
   "execution_count": 5,
   "id": "7ac8ab77",
   "metadata": {},
   "outputs": [],
   "source": [
    "updated_data = data.resample('D').mean()     # this will create a null values for missing dates "
   ]
  },
  {
   "cell_type": "code",
   "execution_count": 6,
   "id": "d1f162af",
   "metadata": {},
   "outputs": [],
   "source": [
    "regular_data = updated_data.interpolate(method='linear')\n",
    "\n",
    "# this will fill the null values with appropriate values"
   ]
  },
  {
   "cell_type": "code",
   "execution_count": 7,
   "id": "a4cb32f7",
   "metadata": {},
   "outputs": [
    {
     "data": {
      "text/html": [
       "<div>\n",
       "<style scoped>\n",
       "    .dataframe tbody tr th:only-of-type {\n",
       "        vertical-align: middle;\n",
       "    }\n",
       "\n",
       "    .dataframe tbody tr th {\n",
       "        vertical-align: top;\n",
       "    }\n",
       "\n",
       "    .dataframe thead th {\n",
       "        text-align: right;\n",
       "    }\n",
       "</style>\n",
       "<table border=\"1\" class=\"dataframe\">\n",
       "  <thead>\n",
       "    <tr style=\"text-align: right;\">\n",
       "      <th></th>\n",
       "      <th>Gold_Price</th>\n",
       "    </tr>\n",
       "    <tr>\n",
       "      <th>Date</th>\n",
       "      <th></th>\n",
       "    </tr>\n",
       "  </thead>\n",
       "  <tbody>\n",
       "    <tr>\n",
       "      <th>2020-03-04</th>\n",
       "      <td>38782.0</td>\n",
       "    </tr>\n",
       "    <tr>\n",
       "      <th>2020-03-05</th>\n",
       "      <td>39246.0</td>\n",
       "    </tr>\n",
       "    <tr>\n",
       "      <th>2020-03-06</th>\n",
       "      <td>40061.0</td>\n",
       "    </tr>\n",
       "    <tr>\n",
       "      <th>2020-03-07</th>\n",
       "      <td>40031.0</td>\n",
       "    </tr>\n",
       "    <tr>\n",
       "      <th>2020-03-08</th>\n",
       "      <td>40001.0</td>\n",
       "    </tr>\n",
       "    <tr>\n",
       "      <th>...</th>\n",
       "      <td>...</td>\n",
       "    </tr>\n",
       "    <tr>\n",
       "      <th>2022-02-28</th>\n",
       "      <td>46420.0</td>\n",
       "    </tr>\n",
       "    <tr>\n",
       "      <th>2022-03-01</th>\n",
       "      <td>46715.0</td>\n",
       "    </tr>\n",
       "    <tr>\n",
       "      <th>2022-03-02</th>\n",
       "      <td>47102.0</td>\n",
       "    </tr>\n",
       "    <tr>\n",
       "      <th>2022-03-03</th>\n",
       "      <td>47251.0</td>\n",
       "    </tr>\n",
       "    <tr>\n",
       "      <th>2022-03-04</th>\n",
       "      <td>47793.0</td>\n",
       "    </tr>\n",
       "  </tbody>\n",
       "</table>\n",
       "<p>731 rows × 1 columns</p>\n",
       "</div>"
      ],
      "text/plain": [
       "            Gold_Price\n",
       "Date                  \n",
       "2020-03-04     38782.0\n",
       "2020-03-05     39246.0\n",
       "2020-03-06     40061.0\n",
       "2020-03-07     40031.0\n",
       "2020-03-08     40001.0\n",
       "...                ...\n",
       "2022-02-28     46420.0\n",
       "2022-03-01     46715.0\n",
       "2022-03-02     47102.0\n",
       "2022-03-03     47251.0\n",
       "2022-03-04     47793.0\n",
       "\n",
       "[731 rows x 1 columns]"
      ]
     },
     "execution_count": 7,
     "metadata": {},
     "output_type": "execute_result"
    }
   ],
   "source": [
    "regular_data"
   ]
  },
  {
   "cell_type": "code",
   "execution_count": 8,
   "id": "ac07ee7c",
   "metadata": {},
   "outputs": [
    {
     "data": {
      "text/html": [
       "<div>\n",
       "<style scoped>\n",
       "    .dataframe tbody tr th:only-of-type {\n",
       "        vertical-align: middle;\n",
       "    }\n",
       "\n",
       "    .dataframe tbody tr th {\n",
       "        vertical-align: top;\n",
       "    }\n",
       "\n",
       "    .dataframe thead th {\n",
       "        text-align: right;\n",
       "    }\n",
       "</style>\n",
       "<table border=\"1\" class=\"dataframe\">\n",
       "  <thead>\n",
       "    <tr style=\"text-align: right;\">\n",
       "      <th></th>\n",
       "      <th>Gold_Price</th>\n",
       "    </tr>\n",
       "  </thead>\n",
       "  <tbody>\n",
       "    <tr>\n",
       "      <th>count</th>\n",
       "      <td>731.000000</td>\n",
       "    </tr>\n",
       "    <tr>\n",
       "      <th>mean</th>\n",
       "      <td>43302.299590</td>\n",
       "    </tr>\n",
       "    <tr>\n",
       "      <th>std</th>\n",
       "      <td>1972.144067</td>\n",
       "    </tr>\n",
       "    <tr>\n",
       "      <th>min</th>\n",
       "      <td>35643.000000</td>\n",
       "    </tr>\n",
       "    <tr>\n",
       "      <th>25%</th>\n",
       "      <td>42305.333333</td>\n",
       "    </tr>\n",
       "    <tr>\n",
       "      <th>50%</th>\n",
       "      <td>43292.000000</td>\n",
       "    </tr>\n",
       "    <tr>\n",
       "      <th>75%</th>\n",
       "      <td>44446.333333</td>\n",
       "    </tr>\n",
       "    <tr>\n",
       "      <th>max</th>\n",
       "      <td>49968.000000</td>\n",
       "    </tr>\n",
       "  </tbody>\n",
       "</table>\n",
       "</div>"
      ],
      "text/plain": [
       "         Gold_Price\n",
       "count    731.000000\n",
       "mean   43302.299590\n",
       "std     1972.144067\n",
       "min    35643.000000\n",
       "25%    42305.333333\n",
       "50%    43292.000000\n",
       "75%    44446.333333\n",
       "max    49968.000000"
      ]
     },
     "execution_count": 8,
     "metadata": {},
     "output_type": "execute_result"
    }
   ],
   "source": [
    "regular_data.describe()"
   ]
  },
  {
   "cell_type": "code",
   "execution_count": 9,
   "id": "5e8651e3",
   "metadata": {},
   "outputs": [
    {
     "data": {
      "text/plain": [
       "Gold_Price    0\n",
       "dtype: int64"
      ]
     },
     "execution_count": 9,
     "metadata": {},
     "output_type": "execute_result"
    }
   ],
   "source": [
    "regular_data.isnull().sum()"
   ]
  },
  {
   "cell_type": "markdown",
   "id": "55af758a",
   "metadata": {},
   "source": [
    "### Visualization :-"
   ]
  },
  {
   "cell_type": "code",
   "execution_count": 10,
   "id": "07329516",
   "metadata": {},
   "outputs": [],
   "source": [
    "import matplotlib.pyplot as plt\n",
    "%matplotlib inline"
   ]
  },
  {
   "cell_type": "code",
   "execution_count": 11,
   "id": "4f42ee97",
   "metadata": {},
   "outputs": [
    {
     "data": {
      "text/plain": [
       "Text(0, 0.5, 'Price')"
      ]
     },
     "execution_count": 11,
     "metadata": {},
     "output_type": "execute_result"
    },
    {
     "data": {
      "image/png": "[encoded data removed]",
      "text/plain": [
       "<Figure size 1080x432 with 1 Axes>"
      ]
     },
     "metadata": {
      "needs_background": "light"
     },
     "output_type": "display_data"
    }
   ],
   "source": [
    "regular_data.plot(figsize=(15,6))\n",
    "plt.xlabel(\"Date\")\n",
    "plt.ylabel(\"Price\")\n"
   ]
  },
  {
   "cell_type": "markdown",
   "id": "b2e525d5",
   "metadata": {},
   "source": [
    "- from above line-plot we can see that our gold-price with given time period has constant Trend with non Seasonality."
   ]
  },
  {
   "cell_type": "code",
   "execution_count": 12,
   "id": "7babd7c1",
   "metadata": {},
   "outputs": [
    {
     "data": {
      "text/plain": [
       "<AxesSubplot:ylabel='Density'>"
      ]
     },
     "execution_count": 12,
     "metadata": {},
     "output_type": "execute_result"
    },
    {
     "data": {
      "image/png": "[encoded data removed]",
      "text/plain": [
       "<Figure size 432x288 with 1 Axes>"
      ]
     },
     "metadata": {
      "needs_background": "light"
     },
     "output_type": "display_data"
    }
   ],
   "source": [
    "regular_data.plot(kind='kde')"
   ]
  },
  {
   "cell_type": "code",
   "execution_count": 13,
   "id": "e57ef642",
   "metadata": {},
   "outputs": [
    {
     "data": {
      "text/plain": [
       "(array([  8.,   5.,  21.,  55., 172., 263., 134.,  53.,  14.,   6.]),\n",
       " array([35643. , 37075.5, 38508. , 39940.5, 41373. , 42805.5, 44238. ,\n",
       "        45670.5, 47103. , 48535.5, 49968. ]),\n",
       " <BarContainer object of 10 artists>)"
      ]
     },
     "execution_count": 13,
     "metadata": {},
     "output_type": "execute_result"
    },
    {
     "data": {
      "image/png": "[encoded data removed]",
      "text/plain": [
       "<Figure size 432x288 with 1 Axes>"
      ]
     },
     "metadata": {
      "needs_background": "light"
     },
     "output_type": "display_data"
    }
   ],
   "source": [
    "plt.hist(regular_data)"
   ]
  },
  {
   "cell_type": "markdown",
   "id": "f734229c",
   "metadata": {},
   "source": [
    "- From above figure we can say that our data is norally distributted"
   ]
  },
  {
   "cell_type": "code",
   "execution_count": 14,
   "id": "7efe15e7",
   "metadata": {},
   "outputs": [
    {
     "data": {
      "text/plain": [
       "{'whiskers': [<matplotlib.lines.Line2D at 0x15ca5c1a220>,\n",
       "  <matplotlib.lines.Line2D at 0x15ca5c1a580>],\n",
       " 'caps': [<matplotlib.lines.Line2D at 0x15ca5c1a8e0>,\n",
       "  <matplotlib.lines.Line2D at 0x15ca5c1ac40>],\n",
       " 'boxes': [<matplotlib.lines.Line2D at 0x15ca5c0de80>],\n",
       " 'medians': [<matplotlib.lines.Line2D at 0x15ca5c1afa0>],\n",
       " 'fliers': [<matplotlib.lines.Line2D at 0x15ca5c27340>],\n",
       " 'means': []}"
      ]
     },
     "execution_count": 14,
     "metadata": {},
     "output_type": "execute_result"
    },
    {
     "data": {
      "image/png": "[encoded data removed]",
      "text/plain": [
       "<Figure size 432x288 with 1 Axes>"
      ]
     },
     "metadata": {
      "needs_background": "light"
     },
     "output_type": "display_data"
    }
   ],
   "source": [
    "plt.boxplot(data.Gold_Price.loc['2020-03-04':'2021-03-04'])"
   ]
  },
  {
   "cell_type": "code",
   "execution_count": 15,
   "id": "12a0a167",
   "metadata": {},
   "outputs": [
    {
     "data": {
      "text/plain": [
       "{'whiskers': [<matplotlib.lines.Line2D at 0x15ca5c822e0>,\n",
       "  <matplotlib.lines.Line2D at 0x15ca5c82640>],\n",
       " 'caps': [<matplotlib.lines.Line2D at 0x15ca5c829a0>,\n",
       "  <matplotlib.lines.Line2D at 0x15ca5c82d00>],\n",
       " 'boxes': [<matplotlib.lines.Line2D at 0x15ca5c74f40>],\n",
       " 'medians': [<matplotlib.lines.Line2D at 0x15ca5c8d0a0>],\n",
       " 'fliers': [<matplotlib.lines.Line2D at 0x15ca5c8d400>],\n",
       " 'means': []}"
      ]
     },
     "execution_count": 15,
     "metadata": {},
     "output_type": "execute_result"
    },
    {
     "data": {
      "image/png": "[encoded data removed]",
      "text/plain": [
       "<Figure size 432x288 with 1 Axes>"
      ]
     },
     "metadata": {
      "needs_background": "light"
     },
     "output_type": "display_data"
    }
   ],
   "source": [
    "plt.boxplot(data.Gold_Price.loc['2021-03-04':'2022-03-04'])"
   ]
  },
  {
   "cell_type": "markdown",
   "id": "e1e37bd0",
   "metadata": {},
   "source": [
    "- IF WE CHECK THE YEARLY DATA THERE ARE OUTLIERES IN OUR DATA ."
   ]
  },
  {
   "cell_type": "code",
   "execution_count": null,
   "id": "6e7f0a6e",
   "metadata": {},
   "outputs": [],
   "source": []
  },
  {
   "cell_type": "markdown",
   "id": "d778cc7e",
   "metadata": {},
   "source": [
    "- Lag-Plot :-"
   ]
  },
  {
   "cell_type": "code",
   "execution_count": 16,
   "id": "6c122b68",
   "metadata": {},
   "outputs": [],
   "source": [
    "from pandas.plotting import lag_plot"
   ]
  },
  {
   "cell_type": "code",
   "execution_count": 17,
   "id": "d6d2b257",
   "metadata": {},
   "outputs": [
    {
     "data": {
      "text/plain": [
       "<AxesSubplot:xlabel='y(t)', ylabel='y(t + 1)'>"
      ]
     },
     "execution_count": 17,
     "metadata": {},
     "output_type": "execute_result"
    },
    {
     "data": {
      "image/png": "[encoded data removed]",
      "text/plain": [
       "<Figure size 432x288 with 1 Axes>"
      ]
     },
     "metadata": {
      "needs_background": "light"
     },
     "output_type": "display_data"
    }
   ],
   "source": [
    "lag_plot(regular_data, lag=1)  # we can give any values to the lag to check the correlation "
   ]
  },
  {
   "cell_type": "code",
   "execution_count": null,
   "id": "e7be797a",
   "metadata": {},
   "outputs": [],
   "source": []
  },
  {
   "cell_type": "markdown",
   "id": "4a9501ef",
   "metadata": {},
   "source": [
    "#### Auto-Correlation Plot (ACF) :-"
   ]
  },
  {
   "cell_type": "code",
   "execution_count": 18,
   "id": "434c6293",
   "metadata": {},
   "outputs": [],
   "source": [
    "# it is used to check which lag should be taken for consideration \n",
    "\n",
    "from statsmodels.graphics import tsaplots"
   ]
  },
  {
   "cell_type": "code",
   "execution_count": 19,
   "id": "2b61e510",
   "metadata": {},
   "outputs": [
    {
     "data": {
      "image/png": "[encoded data removed]",
      "text/plain": [
       "<Figure size 432x288 with 1 Axes>"
      ]
     },
     "metadata": {
      "needs_background": "light"
     },
     "output_type": "display_data"
    }
   ],
   "source": [
    "tsaplots.plot_acf(regular_data.Gold_Price, lags=10)\n",
    "plt.show()"
   ]
  },
  {
   "cell_type": "markdown",
   "id": "edc64230",
   "metadata": {},
   "source": [
    "#### PACF plot :-"
   ]
  },
  {
   "cell_type": "code",
   "execution_count": 20,
   "id": "b6d24db3",
   "metadata": {},
   "outputs": [],
   "source": [
    "from statsmodels.graphics.tsaplots import plot_pacf"
   ]
  },
  {
   "cell_type": "code",
   "execution_count": 21,
   "id": "d83e71a7",
   "metadata": {},
   "outputs": [
    {
     "data": {
      "image/png": "[encoded data removed]",
      "text/plain": [
       "<Figure size 432x288 with 1 Axes>"
      ]
     },
     "metadata": {
      "needs_background": "light"
     },
     "output_type": "display_data"
    }
   ],
   "source": [
    "plot_pacf(regular_data.Gold_Price, lags=10)\n",
    "plt.show()"
   ]
  },
  {
   "cell_type": "code",
   "execution_count": 22,
   "id": "75974d77",
   "metadata": {},
   "outputs": [
    {
     "data": {
      "text/html": [
       "<div>\n",
       "<style scoped>\n",
       "    .dataframe tbody tr th:only-of-type {\n",
       "        vertical-align: middle;\n",
       "    }\n",
       "\n",
       "    .dataframe tbody tr th {\n",
       "        vertical-align: top;\n",
       "    }\n",
       "\n",
       "    .dataframe thead th {\n",
       "        text-align: right;\n",
       "    }\n",
       "</style>\n",
       "<table border=\"1\" class=\"dataframe\">\n",
       "  <thead>\n",
       "    <tr style=\"text-align: right;\">\n",
       "      <th></th>\n",
       "      <th>Gold_Price</th>\n",
       "    </tr>\n",
       "    <tr>\n",
       "      <th>Date</th>\n",
       "      <th></th>\n",
       "    </tr>\n",
       "  </thead>\n",
       "  <tbody>\n",
       "    <tr>\n",
       "      <th>2020-03-04</th>\n",
       "      <td>38782.0</td>\n",
       "    </tr>\n",
       "    <tr>\n",
       "      <th>2020-03-05</th>\n",
       "      <td>39246.0</td>\n",
       "    </tr>\n",
       "    <tr>\n",
       "      <th>2020-03-06</th>\n",
       "      <td>40061.0</td>\n",
       "    </tr>\n",
       "    <tr>\n",
       "      <th>2020-03-07</th>\n",
       "      <td>40031.0</td>\n",
       "    </tr>\n",
       "    <tr>\n",
       "      <th>2020-03-08</th>\n",
       "      <td>40001.0</td>\n",
       "    </tr>\n",
       "  </tbody>\n",
       "</table>\n",
       "</div>"
      ],
      "text/plain": [
       "            Gold_Price\n",
       "Date                  \n",
       "2020-03-04     38782.0\n",
       "2020-03-05     39246.0\n",
       "2020-03-06     40061.0\n",
       "2020-03-07     40031.0\n",
       "2020-03-08     40001.0"
      ]
     },
     "execution_count": 22,
     "metadata": {},
     "output_type": "execute_result"
    }
   ],
   "source": [
    "regular_data.head()"
   ]
  },
  {
   "cell_type": "code",
   "execution_count": null,
   "id": "bf6f3895",
   "metadata": {},
   "outputs": [],
   "source": []
  },
  {
   "cell_type": "markdown",
   "id": "9c9672e5",
   "metadata": {},
   "source": [
    "### Smoothing our graph using moving averages :-"
   ]
  },
  {
   "cell_type": "code",
   "execution_count": 23,
   "id": "9276f2ae",
   "metadata": {},
   "outputs": [
    {
     "data": {
      "text/plain": [
       "<matplotlib.legend.Legend at 0x15ca619edf0>"
      ]
     },
     "execution_count": 23,
     "metadata": {},
     "output_type": "execute_result"
    },
    {
     "data": {
      "image/png": "[encoded data removed]",
      "text/plain": [
       "<Figure size 1728x576 with 1 Axes>"
      ]
     },
     "metadata": {
      "needs_background": "light"
     },
     "output_type": "display_data"
    }
   ],
   "source": [
    "plt.figure(figsize=(24,8))\n",
    "\n",
    "regular_data.Gold_Price.plot(label='org')\n",
    "\n",
    "for i in range(10,61,20):\n",
    "    regular_data['Gold_Price'].rolling(i).mean().plot(label=i)\n",
    "    \n",
    "plt.legend()"
   ]
  },
  {
   "cell_type": "markdown",
   "id": "4c0da429",
   "metadata": {},
   "source": [
    "### Time series Decomposition plot :-"
   ]
  },
  {
   "cell_type": "code",
   "execution_count": 24,
   "id": "3ea93f31",
   "metadata": {},
   "outputs": [],
   "source": [
    "from statsmodels.tsa.seasonal import seasonal_decompose"
   ]
  },
  {
   "cell_type": "code",
   "execution_count": 25,
   "id": "338a84c2",
   "metadata": {},
   "outputs": [
    {
     "name": "stderr",
     "output_type": "stream",
     "text": [
      "<ipython-input-25-27f403a9c3a2>:1: FutureWarning: the 'freq'' keyword is deprecated, use 'period' instead\n",
      "  decompose_plot = seasonal_decompose(regular_data.Gold_Price, freq=30)\n"
     ]
    },
    {
     "data": {
      "image/png": "[encoded data removed]",
      "text/plain": [
       "<Figure size 432x288 with 4 Axes>"
      ]
     },
     "metadata": {
      "needs_background": "light"
     },
     "output_type": "display_data"
    }
   ],
   "source": [
    "decompose_plot = seasonal_decompose(regular_data.Gold_Price, freq=30)\n",
    "decompose_plot.plot()\n",
    "plt.show()"
   ]
  },
  {
   "cell_type": "markdown",
   "id": "7fb3c619",
   "metadata": {},
   "source": [
    "### Feature Engineering :-"
   ]
  },
  {
   "cell_type": "code",
   "execution_count": 26,
   "id": "e2b2cea3",
   "metadata": {},
   "outputs": [
    {
     "data": {
      "text/html": [
       "<div>\n",
       "<style scoped>\n",
       "    .dataframe tbody tr th:only-of-type {\n",
       "        vertical-align: middle;\n",
       "    }\n",
       "\n",
       "    .dataframe tbody tr th {\n",
       "        vertical-align: top;\n",
       "    }\n",
       "\n",
       "    .dataframe thead th {\n",
       "        text-align: right;\n",
       "    }\n",
       "</style>\n",
       "<table border=\"1\" class=\"dataframe\">\n",
       "  <thead>\n",
       "    <tr style=\"text-align: right;\">\n",
       "      <th></th>\n",
       "      <th>Gold_Price</th>\n",
       "    </tr>\n",
       "    <tr>\n",
       "      <th>Date</th>\n",
       "      <th></th>\n",
       "    </tr>\n",
       "  </thead>\n",
       "  <tbody>\n",
       "    <tr>\n",
       "      <th>2020-03-04</th>\n",
       "      <td>38782.0</td>\n",
       "    </tr>\n",
       "    <tr>\n",
       "      <th>2020-03-05</th>\n",
       "      <td>39246.0</td>\n",
       "    </tr>\n",
       "    <tr>\n",
       "      <th>2020-03-06</th>\n",
       "      <td>40061.0</td>\n",
       "    </tr>\n",
       "    <tr>\n",
       "      <th>2020-03-07</th>\n",
       "      <td>40031.0</td>\n",
       "    </tr>\n",
       "    <tr>\n",
       "      <th>2020-03-08</th>\n",
       "      <td>40001.0</td>\n",
       "    </tr>\n",
       "    <tr>\n",
       "      <th>...</th>\n",
       "      <td>...</td>\n",
       "    </tr>\n",
       "    <tr>\n",
       "      <th>2022-02-28</th>\n",
       "      <td>46420.0</td>\n",
       "    </tr>\n",
       "    <tr>\n",
       "      <th>2022-03-01</th>\n",
       "      <td>46715.0</td>\n",
       "    </tr>\n",
       "    <tr>\n",
       "      <th>2022-03-02</th>\n",
       "      <td>47102.0</td>\n",
       "    </tr>\n",
       "    <tr>\n",
       "      <th>2022-03-03</th>\n",
       "      <td>47251.0</td>\n",
       "    </tr>\n",
       "    <tr>\n",
       "      <th>2022-03-04</th>\n",
       "      <td>47793.0</td>\n",
       "    </tr>\n",
       "  </tbody>\n",
       "</table>\n",
       "<p>731 rows × 1 columns</p>\n",
       "</div>"
      ],
      "text/plain": [
       "            Gold_Price\n",
       "Date                  \n",
       "2020-03-04     38782.0\n",
       "2020-03-05     39246.0\n",
       "2020-03-06     40061.0\n",
       "2020-03-07     40031.0\n",
       "2020-03-08     40001.0\n",
       "...                ...\n",
       "2022-02-28     46420.0\n",
       "2022-03-01     46715.0\n",
       "2022-03-02     47102.0\n",
       "2022-03-03     47251.0\n",
       "2022-03-04     47793.0\n",
       "\n",
       "[731 rows x 1 columns]"
      ]
     },
     "execution_count": 26,
     "metadata": {},
     "output_type": "execute_result"
    }
   ],
   "source": [
    "regular_data"
   ]
  },
  {
   "cell_type": "code",
   "execution_count": 27,
   "id": "ede4ff25",
   "metadata": {},
   "outputs": [],
   "source": [
    "t= np.arange(1,732)\n",
    "regular_data['t']=t\n",
    "regular_data['t_square']=regular_data['t']*regular_data['t']\n",
    "\n",
    "log_gold = np.log(regular_data.Gold_Price)\n",
    "regular_data['log_gold'] = log_gold"
   ]
  },
  {
   "cell_type": "code",
   "execution_count": 28,
   "id": "b89bc393",
   "metadata": {},
   "outputs": [],
   "source": [
    "regular_data['month'] = pd.DatetimeIndex(regular_data.index).month\n",
    "regular_data['month'] = regular_data['month'].replace([1,2,3,4,5,6,7,8,9,10,11,12],\n",
    "                                      ('Jan','Feb','Mar','Apr','May','Jun','Jul','Aug','Sep','Oct','Nov','Dec'))\n"
   ]
  },
  {
   "cell_type": "code",
   "execution_count": 29,
   "id": "0babb89e",
   "metadata": {},
   "outputs": [
    {
     "data": {
      "text/html": [
       "<div>\n",
       "<style scoped>\n",
       "    .dataframe tbody tr th:only-of-type {\n",
       "        vertical-align: middle;\n",
       "    }\n",
       "\n",
       "    .dataframe tbody tr th {\n",
       "        vertical-align: top;\n",
       "    }\n",
       "\n",
       "    .dataframe thead th {\n",
       "        text-align: right;\n",
       "    }\n",
       "</style>\n",
       "<table border=\"1\" class=\"dataframe\">\n",
       "  <thead>\n",
       "    <tr style=\"text-align: right;\">\n",
       "      <th></th>\n",
       "      <th>Gold_Price</th>\n",
       "      <th>t</th>\n",
       "      <th>t_square</th>\n",
       "      <th>log_gold</th>\n",
       "      <th>Apr</th>\n",
       "      <th>Aug</th>\n",
       "      <th>Dec</th>\n",
       "      <th>Feb</th>\n",
       "      <th>Jan</th>\n",
       "      <th>Jul</th>\n",
       "      <th>Jun</th>\n",
       "      <th>Mar</th>\n",
       "      <th>May</th>\n",
       "      <th>Nov</th>\n",
       "      <th>Oct</th>\n",
       "      <th>Sep</th>\n",
       "    </tr>\n",
       "    <tr>\n",
       "      <th>Date</th>\n",
       "      <th></th>\n",
       "      <th></th>\n",
       "      <th></th>\n",
       "      <th></th>\n",
       "      <th></th>\n",
       "      <th></th>\n",
       "      <th></th>\n",
       "      <th></th>\n",
       "      <th></th>\n",
       "      <th></th>\n",
       "      <th></th>\n",
       "      <th></th>\n",
       "      <th></th>\n",
       "      <th></th>\n",
       "      <th></th>\n",
       "      <th></th>\n",
       "    </tr>\n",
       "  </thead>\n",
       "  <tbody>\n",
       "    <tr>\n",
       "      <th>2020-03-04</th>\n",
       "      <td>38782.0</td>\n",
       "      <td>1</td>\n",
       "      <td>1</td>\n",
       "      <td>10.565712</td>\n",
       "      <td>0</td>\n",
       "      <td>0</td>\n",
       "      <td>0</td>\n",
       "      <td>0</td>\n",
       "      <td>0</td>\n",
       "      <td>0</td>\n",
       "      <td>0</td>\n",
       "      <td>1</td>\n",
       "      <td>0</td>\n",
       "      <td>0</td>\n",
       "      <td>0</td>\n",
       "      <td>0</td>\n",
       "    </tr>\n",
       "    <tr>\n",
       "      <th>2020-03-05</th>\n",
       "      <td>39246.0</td>\n",
       "      <td>2</td>\n",
       "      <td>4</td>\n",
       "      <td>10.577605</td>\n",
       "      <td>0</td>\n",
       "      <td>0</td>\n",
       "      <td>0</td>\n",
       "      <td>0</td>\n",
       "      <td>0</td>\n",
       "      <td>0</td>\n",
       "      <td>0</td>\n",
       "      <td>1</td>\n",
       "      <td>0</td>\n",
       "      <td>0</td>\n",
       "      <td>0</td>\n",
       "      <td>0</td>\n",
       "    </tr>\n",
       "    <tr>\n",
       "      <th>2020-03-06</th>\n",
       "      <td>40061.0</td>\n",
       "      <td>3</td>\n",
       "      <td>9</td>\n",
       "      <td>10.598159</td>\n",
       "      <td>0</td>\n",
       "      <td>0</td>\n",
       "      <td>0</td>\n",
       "      <td>0</td>\n",
       "      <td>0</td>\n",
       "      <td>0</td>\n",
       "      <td>0</td>\n",
       "      <td>1</td>\n",
       "      <td>0</td>\n",
       "      <td>0</td>\n",
       "      <td>0</td>\n",
       "      <td>0</td>\n",
       "    </tr>\n",
       "    <tr>\n",
       "      <th>2020-03-07</th>\n",
       "      <td>40031.0</td>\n",
       "      <td>4</td>\n",
       "      <td>16</td>\n",
       "      <td>10.597409</td>\n",
       "      <td>0</td>\n",
       "      <td>0</td>\n",
       "      <td>0</td>\n",
       "      <td>0</td>\n",
       "      <td>0</td>\n",
       "      <td>0</td>\n",
       "      <td>0</td>\n",
       "      <td>1</td>\n",
       "      <td>0</td>\n",
       "      <td>0</td>\n",
       "      <td>0</td>\n",
       "      <td>0</td>\n",
       "    </tr>\n",
       "    <tr>\n",
       "      <th>2020-03-08</th>\n",
       "      <td>40001.0</td>\n",
       "      <td>5</td>\n",
       "      <td>25</td>\n",
       "      <td>10.596660</td>\n",
       "      <td>0</td>\n",
       "      <td>0</td>\n",
       "      <td>0</td>\n",
       "      <td>0</td>\n",
       "      <td>0</td>\n",
       "      <td>0</td>\n",
       "      <td>0</td>\n",
       "      <td>1</td>\n",
       "      <td>0</td>\n",
       "      <td>0</td>\n",
       "      <td>0</td>\n",
       "      <td>0</td>\n",
       "    </tr>\n",
       "  </tbody>\n",
       "</table>\n",
       "</div>"
      ],
      "text/plain": [
       "            Gold_Price  t  t_square   log_gold  Apr  Aug  Dec  Feb  Jan  Jul  \\\n",
       "Date                                                                           \n",
       "2020-03-04     38782.0  1         1  10.565712    0    0    0    0    0    0   \n",
       "2020-03-05     39246.0  2         4  10.577605    0    0    0    0    0    0   \n",
       "2020-03-06     40061.0  3         9  10.598159    0    0    0    0    0    0   \n",
       "2020-03-07     40031.0  4        16  10.597409    0    0    0    0    0    0   \n",
       "2020-03-08     40001.0  5        25  10.596660    0    0    0    0    0    0   \n",
       "\n",
       "            Jun  Mar  May  Nov  Oct  Sep  \n",
       "Date                                      \n",
       "2020-03-04    0    1    0    0    0    0  \n",
       "2020-03-05    0    1    0    0    0    0  \n",
       "2020-03-06    0    1    0    0    0    0  \n",
       "2020-03-07    0    1    0    0    0    0  \n",
       "2020-03-08    0    1    0    0    0    0  "
      ]
     },
     "execution_count": 29,
     "metadata": {},
     "output_type": "execute_result"
    }
   ],
   "source": [
    "new_data = pd.get_dummies(regular_data,   prefix='',   prefix_sep='',   columns=['month'])\n",
    "new_data.head()"
   ]
  },
  {
   "cell_type": "code",
   "execution_count": null,
   "id": "45da2481",
   "metadata": {},
   "outputs": [],
   "source": []
  },
  {
   "cell_type": "markdown",
   "id": "ec81efa5",
   "metadata": {},
   "source": [
    "### Splitting the data in to train and test :-"
   ]
  },
  {
   "cell_type": "code",
   "execution_count": 30,
   "id": "774d3850",
   "metadata": {},
   "outputs": [],
   "source": [
    "train_data = new_data.head(550)"
   ]
  },
  {
   "cell_type": "code",
   "execution_count": 31,
   "id": "d52feaea",
   "metadata": {},
   "outputs": [],
   "source": [
    "test_data = new_data.tail(181)\n"
   ]
  },
  {
   "cell_type": "markdown",
   "id": "cfba82ca",
   "metadata": {},
   "source": [
    "## We will perform all types of models:- "
   ]
  },
  {
   "cell_type": "markdown",
   "id": "64fcd31d",
   "metadata": {},
   "source": [
    "## Model Based Approach :-"
   ]
  },
  {
   "cell_type": "markdown",
   "id": "04c7e704",
   "metadata": {},
   "source": [
    "### 1. Linear Model :-"
   ]
  },
  {
   "cell_type": "code",
   "execution_count": 32,
   "id": "01302d01",
   "metadata": {},
   "outputs": [],
   "source": [
    "import statsmodels.formula.api as smf"
   ]
  },
  {
   "cell_type": "code",
   "execution_count": 33,
   "id": "a11d08d5",
   "metadata": {},
   "outputs": [],
   "source": [
    "model1 = smf.ols('Gold_Price~t', data=train_data).fit()"
   ]
  },
  {
   "cell_type": "code",
   "execution_count": 34,
   "id": "02588c10",
   "metadata": {},
   "outputs": [],
   "source": [
    "linear_pred = model1.predict(test_data['t'])"
   ]
  },
  {
   "cell_type": "code",
   "execution_count": 35,
   "id": "4a1dfd8d",
   "metadata": {},
   "outputs": [],
   "source": [
    "def MAPE(actual, predict):\n",
    "    value = np.mean(np.abs((actual-predict)/actual)*100)\n",
    "    return value"
   ]
  },
  {
   "cell_type": "code",
   "execution_count": 36,
   "id": "950f8112",
   "metadata": {},
   "outputs": [
    {
     "data": {
      "text/plain": [
       "1.9465906732671232"
      ]
     },
     "execution_count": 36,
     "metadata": {},
     "output_type": "execute_result"
    }
   ],
   "source": [
    "MAPE_linear = MAPE(test_data['Gold_Price'],linear_pred)\n",
    "MAPE_linear"
   ]
  },
  {
   "cell_type": "markdown",
   "id": "fcddc3cc",
   "metadata": {},
   "source": [
    "### 2.Exponential Model :-"
   ]
  },
  {
   "cell_type": "code",
   "execution_count": 37,
   "id": "b595dca6",
   "metadata": {},
   "outputs": [],
   "source": [
    "model2 = smf.ols('log_gold~t', data=train_data).fit()"
   ]
  },
  {
   "cell_type": "code",
   "execution_count": 38,
   "id": "77579f31",
   "metadata": {},
   "outputs": [],
   "source": [
    "expo_pred = np.exp(model2.predict(test_data['t']))"
   ]
  },
  {
   "cell_type": "code",
   "execution_count": 39,
   "id": "6e55f496",
   "metadata": {},
   "outputs": [
    {
     "data": {
      "text/plain": [
       "1.9749749741524163"
      ]
     },
     "execution_count": 39,
     "metadata": {},
     "output_type": "execute_result"
    }
   ],
   "source": [
    "MAPE_expo = MAPE(test_data['Gold_Price'], expo_pred)\n",
    "MAPE_expo"
   ]
  },
  {
   "cell_type": "markdown",
   "id": "6d715ee1",
   "metadata": {},
   "source": [
    "### 3.Quadratic Model :-"
   ]
  },
  {
   "cell_type": "code",
   "execution_count": 40,
   "id": "c2442b32",
   "metadata": {},
   "outputs": [],
   "source": [
    "model3 = smf.ols('Gold_Price~t+t_square', data=train_data).fit()"
   ]
  },
  {
   "cell_type": "code",
   "execution_count": 41,
   "id": "05a52f0b",
   "metadata": {},
   "outputs": [],
   "source": [
    "quad_pred = model3.predict(test_data[['t','t_square']])"
   ]
  },
  {
   "cell_type": "code",
   "execution_count": 42,
   "id": "659e36c4",
   "metadata": {},
   "outputs": [
    {
     "data": {
      "text/plain": [
       "12.085338102857227"
      ]
     },
     "execution_count": 42,
     "metadata": {},
     "output_type": "execute_result"
    }
   ],
   "source": [
    "MAPE_quad = MAPE(test_data['Gold_Price'], quad_pred)\n",
    "MAPE_quad"
   ]
  },
  {
   "cell_type": "markdown",
   "id": "5cfa500e",
   "metadata": {},
   "source": [
    "### 4.Additive Seasonality :-"
   ]
  },
  {
   "cell_type": "code",
   "execution_count": 43,
   "id": "bced65f3",
   "metadata": {},
   "outputs": [],
   "source": [
    "model4 = smf.ols('Gold_Price~Jan+Feb+Mar+Apr+May+Jun+Jul+Aug+Sep+Oct+Nov', data= train_data).fit()"
   ]
  },
  {
   "cell_type": "code",
   "execution_count": 44,
   "id": "36578dd7",
   "metadata": {},
   "outputs": [],
   "source": [
    "add_seas_pred = model4.predict(test_data[['Jan','Feb','Mar','Apr','May','Jun','Jul','Aug','Sep','Oct','Nov']])"
   ]
  },
  {
   "cell_type": "code",
   "execution_count": 45,
   "id": "607d8883",
   "metadata": {},
   "outputs": [
    {
     "data": {
      "text/plain": [
       "3.9800376650444"
      ]
     },
     "execution_count": 45,
     "metadata": {},
     "output_type": "execute_result"
    }
   ],
   "source": [
    "MAPE_add_seas = MAPE(test_data['Gold_Price'],add_seas_pred)\n",
    "MAPE_add_seas"
   ]
  },
  {
   "cell_type": "markdown",
   "id": "fcb220f4",
   "metadata": {},
   "source": [
    "### 5.Additive Seasonality Quadratic Model :-"
   ]
  },
  {
   "cell_type": "code",
   "execution_count": 46,
   "id": "cc3e5dea",
   "metadata": {},
   "outputs": [],
   "source": [
    "model5 = smf.ols('Gold_Price~t+t_square+Jan+Feb+Mar+Apr+May+Jun+Jul+Aug+Sep+Oct+Nov', data=train_data).fit()"
   ]
  },
  {
   "cell_type": "code",
   "execution_count": 47,
   "id": "fb675a3b",
   "metadata": {},
   "outputs": [],
   "source": [
    "add_seas_quad_pred = model5.predict(test_data[['t','t_square','Jan','Feb','Mar','Apr','May','Jun','Jul','Aug','Sep','Oct','Nov']])"
   ]
  },
  {
   "cell_type": "code",
   "execution_count": 48,
   "id": "cbb65135",
   "metadata": {},
   "outputs": [
    {
     "data": {
      "text/plain": [
       "13.943434669147683"
      ]
     },
     "execution_count": 48,
     "metadata": {},
     "output_type": "execute_result"
    }
   ],
   "source": [
    "MAPE_add_seas_quad = MAPE(test_data['Gold_Price'],add_seas_quad_pred)\n",
    "MAPE_add_seas_quad"
   ]
  },
  {
   "cell_type": "markdown",
   "id": "cbb8c0f1",
   "metadata": {},
   "source": [
    "### 6.Multiplicative Seasonality Model :-"
   ]
  },
  {
   "cell_type": "code",
   "execution_count": 49,
   "id": "ace4277c",
   "metadata": {},
   "outputs": [],
   "source": [
    "model6 = smf.ols('log_gold~Jan+Feb+Mar+Apr+May+Jun+Jul+Aug+Sep+Oct+Nov', data=train_data).fit()"
   ]
  },
  {
   "cell_type": "code",
   "execution_count": 50,
   "id": "b14db506",
   "metadata": {},
   "outputs": [],
   "source": [
    "mul_seas_pred = np.exp(model6.predict(test_data[['Jan','Feb','Mar','Apr','May','Jun','Jul','Aug','Sep','Oct','Nov']]))"
   ]
  },
  {
   "cell_type": "code",
   "execution_count": 51,
   "id": "00cb0304",
   "metadata": {},
   "outputs": [
    {
     "data": {
      "text/plain": [
       "3.9722855982333005"
      ]
     },
     "execution_count": 51,
     "metadata": {},
     "output_type": "execute_result"
    }
   ],
   "source": [
    "MAPE_mul_seas = MAPE(test_data['Gold_Price'],mul_seas_pred)\n",
    "MAPE_mul_seas"
   ]
  },
  {
   "cell_type": "code",
   "execution_count": null,
   "id": "43976de0",
   "metadata": {},
   "outputs": [],
   "source": []
  },
  {
   "cell_type": "code",
   "execution_count": 52,
   "id": "6aaa5189",
   "metadata": {},
   "outputs": [],
   "source": [
    "MAPE_values1 = {\n",
    "            'Model': pd.Series(['Linear','Exponential','Quadratic','Additive seasonality','Additive seasonality quadratic',\n",
    "                                  'Multiplicative seasonality']),\n",
    "            'MAPE_VALUE': ([MAPE_linear, MAPE_expo, MAPE_quad, MAPE_add_seas, MAPE_add_seas_quad, MAPE_mul_seas ])\n",
    "              }\n"
   ]
  },
  {
   "cell_type": "code",
   "execution_count": 53,
   "id": "17ddea97",
   "metadata": {},
   "outputs": [],
   "source": [
    "MAPE_table1 = pd.DataFrame(MAPE_values1)\n"
   ]
  },
  {
   "cell_type": "code",
   "execution_count": 54,
   "id": "17f3ea6e",
   "metadata": {},
   "outputs": [
    {
     "data": {
      "text/html": [
       "<div>\n",
       "<style scoped>\n",
       "    .dataframe tbody tr th:only-of-type {\n",
       "        vertical-align: middle;\n",
       "    }\n",
       "\n",
       "    .dataframe tbody tr th {\n",
       "        vertical-align: top;\n",
       "    }\n",
       "\n",
       "    .dataframe thead th {\n",
       "        text-align: right;\n",
       "    }\n",
       "</style>\n",
       "<table border=\"1\" class=\"dataframe\">\n",
       "  <thead>\n",
       "    <tr style=\"text-align: right;\">\n",
       "      <th></th>\n",
       "      <th>Model</th>\n",
       "      <th>MAPE_VALUE</th>\n",
       "    </tr>\n",
       "  </thead>\n",
       "  <tbody>\n",
       "    <tr>\n",
       "      <th>0</th>\n",
       "      <td>Linear</td>\n",
       "      <td>1.946591</td>\n",
       "    </tr>\n",
       "    <tr>\n",
       "      <th>1</th>\n",
       "      <td>Exponential</td>\n",
       "      <td>1.974975</td>\n",
       "    </tr>\n",
       "    <tr>\n",
       "      <th>5</th>\n",
       "      <td>Multiplicative seasonality</td>\n",
       "      <td>3.972286</td>\n",
       "    </tr>\n",
       "    <tr>\n",
       "      <th>3</th>\n",
       "      <td>Additive seasonality</td>\n",
       "      <td>3.980038</td>\n",
       "    </tr>\n",
       "    <tr>\n",
       "      <th>2</th>\n",
       "      <td>Quadratic</td>\n",
       "      <td>12.085338</td>\n",
       "    </tr>\n",
       "    <tr>\n",
       "      <th>4</th>\n",
       "      <td>Additive seasonality quadratic</td>\n",
       "      <td>13.943435</td>\n",
       "    </tr>\n",
       "  </tbody>\n",
       "</table>\n",
       "</div>"
      ],
      "text/plain": [
       "                            Model  MAPE_VALUE\n",
       "0                          Linear    1.946591\n",
       "1                     Exponential    1.974975\n",
       "5      Multiplicative seasonality    3.972286\n",
       "3            Additive seasonality    3.980038\n",
       "2                       Quadratic   12.085338\n",
       "4  Additive seasonality quadratic   13.943435"
      ]
     },
     "execution_count": 54,
     "metadata": {},
     "output_type": "execute_result"
    }
   ],
   "source": [
    "MAPE_table1.sort_values(['MAPE_VALUE'])"
   ]
  },
  {
   "cell_type": "markdown",
   "id": "5f3e1de2",
   "metadata": {},
   "source": [
    "# -----------------------------------------------------------------------------------------------------------"
   ]
  },
  {
   "cell_type": "markdown",
   "id": "c153e335",
   "metadata": {},
   "source": [
    "## Data Driven Approach :-"
   ]
  },
  {
   "cell_type": "markdown",
   "id": "dafba8f5",
   "metadata": {},
   "source": [
    "### 1. Simple Exponential Smoothing Method :-"
   ]
  },
  {
   "cell_type": "code",
   "execution_count": 55,
   "id": "924747a8",
   "metadata": {},
   "outputs": [],
   "source": [
    "from statsmodels.tsa.holtwinters import SimpleExpSmoothing"
   ]
  },
  {
   "cell_type": "code",
   "execution_count": 56,
   "id": "e2111fa7",
   "metadata": {},
   "outputs": [
    {
     "name": "stderr",
     "output_type": "stream",
     "text": [
      "C:\\Program Files\\anaconda\\lib\\site-packages\\statsmodels\\tsa\\holtwinters\\model.py:427: FutureWarning: After 0.13 initialization must be handled at model creation\n",
      "  warnings.warn(\n"
     ]
    }
   ],
   "source": [
    "model7 = SimpleExpSmoothing (train_data['Gold_Price']).fit()"
   ]
  },
  {
   "cell_type": "code",
   "execution_count": 57,
   "id": "96dbeadb",
   "metadata": {},
   "outputs": [],
   "source": [
    "simple_expo_pred = model7.predict(start=test_data.index[0], end=test_data.index[-1])"
   ]
  },
  {
   "cell_type": "code",
   "execution_count": 58,
   "id": "5691cf4e",
   "metadata": {},
   "outputs": [
    {
     "data": {
      "text/plain": [
       "2.1338260610117494"
      ]
     },
     "execution_count": 58,
     "metadata": {},
     "output_type": "execute_result"
    }
   ],
   "source": [
    "MAPE_simple_expo = MAPE(test_data['Gold_Price'], simple_expo_pred)\n",
    "MAPE_simple_expo"
   ]
  },
  {
   "cell_type": "markdown",
   "id": "15c7e390",
   "metadata": {},
   "source": [
    "### 2. Double Exponential  Smoothing Method  /  Holt Method  :-"
   ]
  },
  {
   "cell_type": "code",
   "execution_count": 59,
   "id": "db7845ea",
   "metadata": {},
   "outputs": [],
   "source": [
    "from statsmodels.tsa.holtwinters import Holt"
   ]
  },
  {
   "cell_type": "code",
   "execution_count": 60,
   "id": "7e01d403",
   "metadata": {},
   "outputs": [
    {
     "name": "stderr",
     "output_type": "stream",
     "text": [
      "C:\\Program Files\\anaconda\\lib\\site-packages\\statsmodels\\tsa\\holtwinters\\model.py:920: ConvergenceWarning: Optimization failed to converge. Check mle_retvals.\n",
      "  warnings.warn(\n"
     ]
    }
   ],
   "source": [
    "model8 = Holt(train_data['Gold_Price']).fit()"
   ]
  },
  {
   "cell_type": "code",
   "execution_count": 61,
   "id": "633a86b7",
   "metadata": {},
   "outputs": [],
   "source": [
    "holt_pred = model8.predict(start = test_data.index[0], end=test_data.index[-1])"
   ]
  },
  {
   "cell_type": "code",
   "execution_count": 62,
   "id": "aa76cbb0",
   "metadata": {},
   "outputs": [
    {
     "data": {
      "text/plain": [
       "2.470580044953764"
      ]
     },
     "execution_count": 62,
     "metadata": {},
     "output_type": "execute_result"
    }
   ],
   "source": [
    "MAPE_holt = MAPE(test_data['Gold_Price'],holt_pred)\n",
    "MAPE_holt"
   ]
  },
  {
   "cell_type": "markdown",
   "id": "9af5599a",
   "metadata": {},
   "source": [
    "### 3. Holt Winter's exponential smoothing with additive seasonality and additive trend :-"
   ]
  },
  {
   "cell_type": "code",
   "execution_count": 63,
   "id": "5f80600f",
   "metadata": {},
   "outputs": [],
   "source": [
    "from statsmodels.tsa.holtwinters import ExponentialSmoothing"
   ]
  },
  {
   "cell_type": "code",
   "execution_count": 64,
   "id": "da324f88",
   "metadata": {},
   "outputs": [
    {
     "name": "stderr",
     "output_type": "stream",
     "text": [
      "C:\\Program Files\\anaconda\\lib\\site-packages\\statsmodels\\tsa\\holtwinters\\model.py:920: ConvergenceWarning: Optimization failed to converge. Check mle_retvals.\n",
      "  warnings.warn(\n"
     ]
    }
   ],
   "source": [
    "model9 = ExponentialSmoothing(train_data['Gold_Price'], seasonal = 'add', trend='add', seasonal_periods=12).fit()"
   ]
  },
  {
   "cell_type": "code",
   "execution_count": 65,
   "id": "d600e3fc",
   "metadata": {},
   "outputs": [],
   "source": [
    "hw_add_seas_add_tren_pred = model9.predict(start = test_data.index[0], end=test_data.index[-1])"
   ]
  },
  {
   "cell_type": "code",
   "execution_count": 66,
   "id": "fca8d5c6",
   "metadata": {},
   "outputs": [
    {
     "data": {
      "text/plain": [
       "3.552499906715058"
      ]
     },
     "execution_count": 66,
     "metadata": {},
     "output_type": "execute_result"
    }
   ],
   "source": [
    "MAPE_hw_add_seas_add_tren = MAPE(test_data['Gold_Price'],hw_add_seas_add_tren_pred)\n",
    "MAPE_hw_add_seas_add_tren"
   ]
  },
  {
   "cell_type": "markdown",
   "id": "90b971d5",
   "metadata": {},
   "source": [
    "### 4. Holt Winter's exponential smoothing with multiplicative seasonality and additive trend :- "
   ]
  },
  {
   "cell_type": "code",
   "execution_count": 67,
   "id": "aac57be0",
   "metadata": {},
   "outputs": [
    {
     "name": "stderr",
     "output_type": "stream",
     "text": [
      "C:\\Program Files\\anaconda\\lib\\site-packages\\statsmodels\\tsa\\holtwinters\\model.py:920: ConvergenceWarning: Optimization failed to converge. Check mle_retvals.\n",
      "  warnings.warn(\n"
     ]
    }
   ],
   "source": [
    "model10 = ExponentialSmoothing(train_data['Gold_Price'], seasonal = 'mul', trend='add', seasonal_periods=12).fit()"
   ]
  },
  {
   "cell_type": "code",
   "execution_count": 68,
   "id": "0c11fb84",
   "metadata": {},
   "outputs": [],
   "source": [
    "hw_mul_seas_add_tren_pred = model10.predict(start = test_data.index[0], end=test_data.index[-1])"
   ]
  },
  {
   "cell_type": "code",
   "execution_count": 69,
   "id": "6d7a59bf",
   "metadata": {},
   "outputs": [
    {
     "data": {
      "text/plain": [
       "3.6881362667903472"
      ]
     },
     "execution_count": 69,
     "metadata": {},
     "output_type": "execute_result"
    }
   ],
   "source": [
    "MAPE_hw_mul_seas_add_tren = MAPE(test_data['Gold_Price'],hw_mul_seas_add_tren_pred)\n",
    "MAPE_hw_mul_seas_add_tren"
   ]
  },
  {
   "cell_type": "code",
   "execution_count": null,
   "id": "bdc808dd",
   "metadata": {},
   "outputs": [],
   "source": []
  },
  {
   "cell_type": "code",
   "execution_count": 70,
   "id": "3243f1ae",
   "metadata": {},
   "outputs": [],
   "source": [
    "MAPE_values2 = {\n",
    "            'Model': pd.Series(['Simple Exponential Smoothing', 'Double Exponential Smoothing',\n",
    "                                \"Holt Winter's exponential smoothing with additive seasonality and additive trend\",\n",
    "                                \"Holt Winter's exponential smoothing with multiplicative seasonality and additive trend\"\n",
    "                               ]),\n",
    "            'MAPE_VALUE': ([ MAPE_simple_expo, MAPE_holt, MAPE_hw_add_seas_add_tren, MAPE_hw_mul_seas_add_tren])\n",
    "              }\n"
   ]
  },
  {
   "cell_type": "code",
   "execution_count": 71,
   "id": "7d9d1c7d",
   "metadata": {},
   "outputs": [],
   "source": [
    "MAPE_table2 = pd.DataFrame(MAPE_values2)"
   ]
  },
  {
   "cell_type": "code",
   "execution_count": 72,
   "id": "f38a8743",
   "metadata": {},
   "outputs": [
    {
     "data": {
      "text/html": [
       "<div>\n",
       "<style scoped>\n",
       "    .dataframe tbody tr th:only-of-type {\n",
       "        vertical-align: middle;\n",
       "    }\n",
       "\n",
       "    .dataframe tbody tr th {\n",
       "        vertical-align: top;\n",
       "    }\n",
       "\n",
       "    .dataframe thead th {\n",
       "        text-align: right;\n",
       "    }\n",
       "</style>\n",
       "<table border=\"1\" class=\"dataframe\">\n",
       "  <thead>\n",
       "    <tr style=\"text-align: right;\">\n",
       "      <th></th>\n",
       "      <th>Model</th>\n",
       "      <th>MAPE_VALUE</th>\n",
       "    </tr>\n",
       "  </thead>\n",
       "  <tbody>\n",
       "    <tr>\n",
       "      <th>0</th>\n",
       "      <td>Simple Exponential Smoothing</td>\n",
       "      <td>2.133826</td>\n",
       "    </tr>\n",
       "    <tr>\n",
       "      <th>1</th>\n",
       "      <td>Double Exponential Smoothing</td>\n",
       "      <td>2.470580</td>\n",
       "    </tr>\n",
       "    <tr>\n",
       "      <th>2</th>\n",
       "      <td>Holt Winter's exponential smoothing with addit...</td>\n",
       "      <td>3.552500</td>\n",
       "    </tr>\n",
       "    <tr>\n",
       "      <th>3</th>\n",
       "      <td>Holt Winter's exponential smoothing with multi...</td>\n",
       "      <td>3.688136</td>\n",
       "    </tr>\n",
       "  </tbody>\n",
       "</table>\n",
       "</div>"
      ],
      "text/plain": [
       "                                               Model  MAPE_VALUE\n",
       "0                       Simple Exponential Smoothing    2.133826\n",
       "1                       Double Exponential Smoothing    2.470580\n",
       "2  Holt Winter's exponential smoothing with addit...    3.552500\n",
       "3  Holt Winter's exponential smoothing with multi...    3.688136"
      ]
     },
     "execution_count": 72,
     "metadata": {},
     "output_type": "execute_result"
    }
   ],
   "source": [
    "MAPE_table2.sort_values('MAPE_VALUE')"
   ]
  },
  {
   "cell_type": "markdown",
   "id": "7ae37e67",
   "metadata": {},
   "source": [
    "# -----------------------------------------------------------------------------------------------------------"
   ]
  },
  {
   "cell_type": "markdown",
   "id": "a5f2be0d",
   "metadata": {},
   "source": [
    "### ARIMA MODEL :-"
   ]
  },
  {
   "cell_type": "code",
   "execution_count": 73,
   "id": "7bab641d",
   "metadata": {},
   "outputs": [],
   "source": [
    "from statsmodels.tsa.arima.model import ARIMA\n",
    "import warnings"
   ]
  },
  {
   "cell_type": "code",
   "execution_count": 74,
   "id": "c2dd4455",
   "metadata": {},
   "outputs": [],
   "source": [
    "\n",
    "def evalaute_arima_model(X, arima_order):\n",
    "    X = X.astype('float32')\n",
    "    train_size = int(len(X)* 0.75)\n",
    "    train = X[:train_size]\n",
    "    test = X[train_size:]\n",
    "    \n",
    "    # NOW BUILD THE MODEL :-\n",
    "    \n",
    "    model11 = ARIMA(train, order=arima_order).fit()\n",
    "    pred = model11.forecast(len(test))\n",
    "    \n",
    "    mape = np.mean(np.abs((test-pred)/test)*100)\n",
    "    \n",
    "    return mape"
   ]
  },
  {
   "cell_type": "code",
   "execution_count": 75,
   "id": "eb781c19",
   "metadata": {},
   "outputs": [],
   "source": [
    "# HYPER-PARAMETER TUNNING FOR P,D,Q VALUES :-"
   ]
  },
  {
   "cell_type": "code",
   "execution_count": 76,
   "id": "1883144d",
   "metadata": {},
   "outputs": [],
   "source": [
    "def evaluate_model (data, p_values, d_values, q_values):\n",
    "    data = data.astype('float32')\n",
    "    \n",
    "    best_score, best_cfg = float('inf'), None \n",
    "    for p in p_values:\n",
    "        for d in d_values:\n",
    "            for q in q_values:\n",
    "                order = (p,d,q)\n",
    "                try :\n",
    "                    mape = evaluate_arima_model(data,order)\n",
    "                    if mape < best_score :\n",
    "                        best_score, best_cfg = mape, order\n",
    "                    print('ARIMA_ORDER {}'.format(order), 'MAPE {}'.format(mape))\n",
    "                        \n",
    "                except :\n",
    "                    continue\n",
    "    print('ARIMA_ORDER {}'.format(best_cfg), 'MAPE {}'.format(best_score))"
   ]
  },
  {
   "cell_type": "code",
   "execution_count": 77,
   "id": "dfbcba47",
   "metadata": {
    "scrolled": true
   },
   "outputs": [
    {
     "name": "stdout",
     "output_type": "stream",
     "text": [
      "ARIMA_ORDER None MAPE inf\n"
     ]
    }
   ],
   "source": [
    "p_values = range(1,6)\n",
    "d_values = range(1,3)\n",
    "q_values = range(1,6)\n",
    "warnings.filterwarnings(\"ignore\")\n",
    "\n",
    "evaluate_model(data.values, p_values, d_values, q_values)"
   ]
  },
  {
   "cell_type": "markdown",
   "id": "cdb74f2e",
   "metadata": {},
   "source": [
    "##### From above we get the p, d, q values as [ 4, 2, 5 ]"
   ]
  },
  {
   "cell_type": "code",
   "execution_count": 78,
   "id": "ce0ce244",
   "metadata": {},
   "outputs": [],
   "source": [
    "model11 = ARIMA(train_data['Gold_Price'], order=(4,2,5)).fit()\n",
    "prediction = model11.forecast(181)"
   ]
  },
  {
   "cell_type": "code",
   "execution_count": 79,
   "id": "397a56f5",
   "metadata": {},
   "outputs": [],
   "source": [
    "# MAPE VALUE USING ARIMA MODEL :-"
   ]
  },
  {
   "cell_type": "code",
   "execution_count": 80,
   "id": "7b288a56",
   "metadata": {},
   "outputs": [
    {
     "data": {
      "text/plain": [
       "2.0170991306622543"
      ]
     },
     "execution_count": 80,
     "metadata": {},
     "output_type": "execute_result"
    }
   ],
   "source": [
    "MAPE_ARIMA = MAPE(test_data['Gold_Price'], prediction)\n",
    "MAPE_ARIMA"
   ]
  },
  {
   "cell_type": "code",
   "execution_count": null,
   "id": "bf0d891f",
   "metadata": {},
   "outputs": [],
   "source": []
  },
  {
   "cell_type": "code",
   "execution_count": 81,
   "id": "e6491101",
   "metadata": {},
   "outputs": [],
   "source": [
    "MAPE_values = {\n",
    "            'Model': pd.Series(['Linear','Exponential','Quadratic','Additive seasonality','Additive seasonality quadratic',\n",
    "                                  'Multiplicative seasonality','ARIMA',\n",
    "                               'Simple Exponential Smoothing', 'Double Exponential Smoothing',\n",
    "                                \"Holt Winter's exponential smoothing with additive seasonality and additive trend\",\n",
    "                                \"Holt Winter's exponential smoothing with multiplicative seasonality and additive trend\"]),\n",
    "            'MAPE_VALUE': ([MAPE_linear, MAPE_expo, MAPE_quad, MAPE_add_seas, MAPE_add_seas_quad, MAPE_mul_seas , MAPE_ARIMA,\n",
    "                           MAPE_simple_expo, MAPE_holt, MAPE_hw_add_seas_add_tren, MAPE_hw_mul_seas_add_tren])\n",
    "              }\n"
   ]
  },
  {
   "cell_type": "code",
   "execution_count": 83,
   "id": "1a4cddd1",
   "metadata": {},
   "outputs": [
    {
     "data": {
      "text/html": [
       "<div>\n",
       "<style scoped>\n",
       "    .dataframe tbody tr th:only-of-type {\n",
       "        vertical-align: middle;\n",
       "    }\n",
       "\n",
       "    .dataframe tbody tr th {\n",
       "        vertical-align: top;\n",
       "    }\n",
       "\n",
       "    .dataframe thead th {\n",
       "        text-align: right;\n",
       "    }\n",
       "</style>\n",
       "<table border=\"1\" class=\"dataframe\">\n",
       "  <thead>\n",
       "    <tr style=\"text-align: right;\">\n",
       "      <th></th>\n",
       "      <th>Model</th>\n",
       "      <th>MAPE_VALUE</th>\n",
       "    </tr>\n",
       "  </thead>\n",
       "  <tbody>\n",
       "    <tr>\n",
       "      <th>0</th>\n",
       "      <td>Linear</td>\n",
       "      <td>1.946591</td>\n",
       "    </tr>\n",
       "    <tr>\n",
       "      <th>1</th>\n",
       "      <td>Exponential</td>\n",
       "      <td>1.974975</td>\n",
       "    </tr>\n",
       "    <tr>\n",
       "      <th>6</th>\n",
       "      <td>ARIMA</td>\n",
       "      <td>2.017099</td>\n",
       "    </tr>\n",
       "    <tr>\n",
       "      <th>7</th>\n",
       "      <td>Simple Exponential Smoothing</td>\n",
       "      <td>2.133826</td>\n",
       "    </tr>\n",
       "    <tr>\n",
       "      <th>8</th>\n",
       "      <td>Double Exponential Smoothing</td>\n",
       "      <td>2.470580</td>\n",
       "    </tr>\n",
       "    <tr>\n",
       "      <th>9</th>\n",
       "      <td>Holt Winter's exponential smoothing with addit...</td>\n",
       "      <td>3.552500</td>\n",
       "    </tr>\n",
       "    <tr>\n",
       "      <th>10</th>\n",
       "      <td>Holt Winter's exponential smoothing with multi...</td>\n",
       "      <td>3.688136</td>\n",
       "    </tr>\n",
       "    <tr>\n",
       "      <th>5</th>\n",
       "      <td>Multiplicative seasonality</td>\n",
       "      <td>3.972286</td>\n",
       "    </tr>\n",
       "    <tr>\n",
       "      <th>3</th>\n",
       "      <td>Additive seasonality</td>\n",
       "      <td>3.980038</td>\n",
       "    </tr>\n",
       "    <tr>\n",
       "      <th>2</th>\n",
       "      <td>Quadratic</td>\n",
       "      <td>12.085338</td>\n",
       "    </tr>\n",
       "    <tr>\n",
       "      <th>4</th>\n",
       "      <td>Additive seasonality quadratic</td>\n",
       "      <td>13.943435</td>\n",
       "    </tr>\n",
       "  </tbody>\n",
       "</table>\n",
       "</div>"
      ],
      "text/plain": [
       "                                                Model  MAPE_VALUE\n",
       "0                                              Linear    1.946591\n",
       "1                                         Exponential    1.974975\n",
       "6                                               ARIMA    2.017099\n",
       "7                        Simple Exponential Smoothing    2.133826\n",
       "8                        Double Exponential Smoothing    2.470580\n",
       "9   Holt Winter's exponential smoothing with addit...    3.552500\n",
       "10  Holt Winter's exponential smoothing with multi...    3.688136\n",
       "5                          Multiplicative seasonality    3.972286\n",
       "3                                Additive seasonality    3.980038\n",
       "2                                           Quadratic   12.085338\n",
       "4                      Additive seasonality quadratic   13.943435"
      ]
     },
     "execution_count": 83,
     "metadata": {},
     "output_type": "execute_result"
    }
   ],
   "source": [
    "MAPE_TABLE = pd.DataFrame(MAPE_values)\n",
    "MAPE_TABLE.sort_values('MAPE_VALUE')"
   ]
  },
  {
   "cell_type": "markdown",
   "id": "672f1b94",
   "metadata": {},
   "source": [
    "### As we can see from above table the the lowest mape value is given by linear model so we will build the final model on \"Linear Model \"."
   ]
  },
  {
   "cell_type": "code",
   "execution_count": 122,
   "id": "cc36d81c",
   "metadata": {},
   "outputs": [],
   "source": [
    "final_model = smf.ols('Gold_Price~t', data=train_data).fit()"
   ]
  },
  {
   "cell_type": "code",
   "execution_count": 151,
   "id": "84fedeb5",
   "metadata": {},
   "outputs": [
    {
     "data": {
      "text/plain": [
       "<AxesSubplot:>"
      ]
     },
     "execution_count": 151,
     "metadata": {},
     "output_type": "execute_result"
    },
    {
     "data": {
      "image/png": "[encoded data removed]",
      "text/plain": [
       "<Figure size 1080x432 with 1 Axes>"
      ]
     },
     "metadata": {
      "needs_background": "light"
     },
     "output_type": "display_data"
    }
   ],
   "source": [
    "pred =final_model.predict(new_data)\n",
    "new_data ['predicted_gold'] = pd.Series(pred)\n",
    "new_data[['Gold_Price','predicted_gold']].reset_index(drop=True).plot(figsize=(15,6))"
   ]
  },
  {
   "cell_type": "code",
   "execution_count": 123,
   "id": "2f3d4f1f",
   "metadata": {},
   "outputs": [
    {
     "data": {
      "text/html": [
       "<div>\n",
       "<style scoped>\n",
       "    .dataframe tbody tr th:only-of-type {\n",
       "        vertical-align: middle;\n",
       "    }\n",
       "\n",
       "    .dataframe tbody tr th {\n",
       "        vertical-align: top;\n",
       "    }\n",
       "\n",
       "    .dataframe thead th {\n",
       "        text-align: right;\n",
       "    }\n",
       "</style>\n",
       "<table border=\"1\" class=\"dataframe\">\n",
       "  <thead>\n",
       "    <tr style=\"text-align: right;\">\n",
       "      <th></th>\n",
       "      <th>t</th>\n",
       "    </tr>\n",
       "  </thead>\n",
       "  <tbody>\n",
       "    <tr>\n",
       "      <th>0</th>\n",
       "      <td>732</td>\n",
       "    </tr>\n",
       "    <tr>\n",
       "      <th>1</th>\n",
       "      <td>733</td>\n",
       "    </tr>\n",
       "    <tr>\n",
       "      <th>2</th>\n",
       "      <td>734</td>\n",
       "    </tr>\n",
       "    <tr>\n",
       "      <th>3</th>\n",
       "      <td>735</td>\n",
       "    </tr>\n",
       "    <tr>\n",
       "      <th>4</th>\n",
       "      <td>736</td>\n",
       "    </tr>\n",
       "    <tr>\n",
       "      <th>5</th>\n",
       "      <td>737</td>\n",
       "    </tr>\n",
       "    <tr>\n",
       "      <th>6</th>\n",
       "      <td>738</td>\n",
       "    </tr>\n",
       "    <tr>\n",
       "      <th>7</th>\n",
       "      <td>739</td>\n",
       "    </tr>\n",
       "    <tr>\n",
       "      <th>8</th>\n",
       "      <td>740</td>\n",
       "    </tr>\n",
       "    <tr>\n",
       "      <th>9</th>\n",
       "      <td>741</td>\n",
       "    </tr>\n",
       "    <tr>\n",
       "      <th>10</th>\n",
       "      <td>742</td>\n",
       "    </tr>\n",
       "    <tr>\n",
       "      <th>11</th>\n",
       "      <td>743</td>\n",
       "    </tr>\n",
       "    <tr>\n",
       "      <th>12</th>\n",
       "      <td>744</td>\n",
       "    </tr>\n",
       "    <tr>\n",
       "      <th>13</th>\n",
       "      <td>745</td>\n",
       "    </tr>\n",
       "    <tr>\n",
       "      <th>14</th>\n",
       "      <td>746</td>\n",
       "    </tr>\n",
       "    <tr>\n",
       "      <th>15</th>\n",
       "      <td>747</td>\n",
       "    </tr>\n",
       "    <tr>\n",
       "      <th>16</th>\n",
       "      <td>748</td>\n",
       "    </tr>\n",
       "    <tr>\n",
       "      <th>17</th>\n",
       "      <td>749</td>\n",
       "    </tr>\n",
       "    <tr>\n",
       "      <th>18</th>\n",
       "      <td>750</td>\n",
       "    </tr>\n",
       "    <tr>\n",
       "      <th>19</th>\n",
       "      <td>751</td>\n",
       "    </tr>\n",
       "    <tr>\n",
       "      <th>20</th>\n",
       "      <td>752</td>\n",
       "    </tr>\n",
       "    <tr>\n",
       "      <th>21</th>\n",
       "      <td>753</td>\n",
       "    </tr>\n",
       "    <tr>\n",
       "      <th>22</th>\n",
       "      <td>754</td>\n",
       "    </tr>\n",
       "    <tr>\n",
       "      <th>23</th>\n",
       "      <td>755</td>\n",
       "    </tr>\n",
       "    <tr>\n",
       "      <th>24</th>\n",
       "      <td>756</td>\n",
       "    </tr>\n",
       "    <tr>\n",
       "      <th>25</th>\n",
       "      <td>757</td>\n",
       "    </tr>\n",
       "    <tr>\n",
       "      <th>26</th>\n",
       "      <td>758</td>\n",
       "    </tr>\n",
       "    <tr>\n",
       "      <th>27</th>\n",
       "      <td>759</td>\n",
       "    </tr>\n",
       "    <tr>\n",
       "      <th>28</th>\n",
       "      <td>760</td>\n",
       "    </tr>\n",
       "    <tr>\n",
       "      <th>29</th>\n",
       "      <td>761</td>\n",
       "    </tr>\n",
       "  </tbody>\n",
       "</table>\n",
       "</div>"
      ],
      "text/plain": [
       "      t\n",
       "0   732\n",
       "1   733\n",
       "2   734\n",
       "3   735\n",
       "4   736\n",
       "5   737\n",
       "6   738\n",
       "7   739\n",
       "8   740\n",
       "9   741\n",
       "10  742\n",
       "11  743\n",
       "12  744\n",
       "13  745\n",
       "14  746\n",
       "15  747\n",
       "16  748\n",
       "17  749\n",
       "18  750\n",
       "19  751\n",
       "20  752\n",
       "21  753\n",
       "22  754\n",
       "23  755\n",
       "24  756\n",
       "25  757\n",
       "26  758\n",
       "27  759\n",
       "28  760\n",
       "29  761"
      ]
     },
     "execution_count": 123,
     "metadata": {},
     "output_type": "execute_result"
    }
   ],
   "source": [
    "predict_data = pd.read_csv(\"C:\\\\Users\\\\RUSHIKESH\\\\OneDrive\\\\Desktop\\\\predict.csv\")\n",
    "predict_data"
   ]
  },
  {
   "cell_type": "markdown",
   "id": "c67e84b8",
   "metadata": {},
   "source": [
    "### we have to predict the gold prices for above time ."
   ]
  },
  {
   "cell_type": "code",
   "execution_count": 124,
   "id": "5ef8db00",
   "metadata": {},
   "outputs": [
    {
     "data": {
      "text/plain": [
       "0     43886.817066\n",
       "1     43888.293624\n",
       "2     43889.770181\n",
       "3     43891.246739\n",
       "4     43892.723297\n",
       "5     43894.199854\n",
       "6     43895.676412\n",
       "7     43897.152970\n",
       "8     43898.629527\n",
       "9     43900.106085\n",
       "10    43901.582643\n",
       "11    43903.059201\n",
       "12    43904.535758\n",
       "13    43906.012316\n",
       "14    43907.488874\n",
       "15    43908.965431\n",
       "16    43910.441989\n",
       "17    43911.918547\n",
       "18    43913.395104\n",
       "19    43914.871662\n",
       "20    43916.348220\n",
       "21    43917.824777\n",
       "22    43919.301335\n",
       "23    43920.777893\n",
       "24    43922.254450\n",
       "25    43923.731008\n",
       "26    43925.207566\n",
       "27    43926.684123\n",
       "28    43928.160681\n",
       "29    43929.637239\n",
       "dtype: float64"
      ]
     },
     "execution_count": 124,
     "metadata": {},
     "output_type": "execute_result"
    }
   ],
   "source": [
    "prediction = (final_model.predict(predict_data))      \n",
    "prediction"
   ]
  },
  {
   "cell_type": "code",
   "execution_count": 125,
   "id": "1ece86e8",
   "metadata": {},
   "outputs": [],
   "source": [
    "predict_data['Forecasted_goldprice'] = pd.Series(prediction)"
   ]
  },
  {
   "cell_type": "code",
   "execution_count": 126,
   "id": "491430d2",
   "metadata": {},
   "outputs": [
    {
     "data": {
      "text/html": [
       "<div>\n",
       "<style scoped>\n",
       "    .dataframe tbody tr th:only-of-type {\n",
       "        vertical-align: middle;\n",
       "    }\n",
       "\n",
       "    .dataframe tbody tr th {\n",
       "        vertical-align: top;\n",
       "    }\n",
       "\n",
       "    .dataframe thead th {\n",
       "        text-align: right;\n",
       "    }\n",
       "</style>\n",
       "<table border=\"1\" class=\"dataframe\">\n",
       "  <thead>\n",
       "    <tr style=\"text-align: right;\">\n",
       "      <th></th>\n",
       "      <th>t</th>\n",
       "      <th>Forecasted_goldprice</th>\n",
       "    </tr>\n",
       "  </thead>\n",
       "  <tbody>\n",
       "    <tr>\n",
       "      <th>0</th>\n",
       "      <td>732</td>\n",
       "      <td>43886.817066</td>\n",
       "    </tr>\n",
       "    <tr>\n",
       "      <th>1</th>\n",
       "      <td>733</td>\n",
       "      <td>43888.293624</td>\n",
       "    </tr>\n",
       "    <tr>\n",
       "      <th>2</th>\n",
       "      <td>734</td>\n",
       "      <td>43889.770181</td>\n",
       "    </tr>\n",
       "    <tr>\n",
       "      <th>3</th>\n",
       "      <td>735</td>\n",
       "      <td>43891.246739</td>\n",
       "    </tr>\n",
       "    <tr>\n",
       "      <th>4</th>\n",
       "      <td>736</td>\n",
       "      <td>43892.723297</td>\n",
       "    </tr>\n",
       "    <tr>\n",
       "      <th>5</th>\n",
       "      <td>737</td>\n",
       "      <td>43894.199854</td>\n",
       "    </tr>\n",
       "    <tr>\n",
       "      <th>6</th>\n",
       "      <td>738</td>\n",
       "      <td>43895.676412</td>\n",
       "    </tr>\n",
       "    <tr>\n",
       "      <th>7</th>\n",
       "      <td>739</td>\n",
       "      <td>43897.152970</td>\n",
       "    </tr>\n",
       "    <tr>\n",
       "      <th>8</th>\n",
       "      <td>740</td>\n",
       "      <td>43898.629527</td>\n",
       "    </tr>\n",
       "    <tr>\n",
       "      <th>9</th>\n",
       "      <td>741</td>\n",
       "      <td>43900.106085</td>\n",
       "    </tr>\n",
       "    <tr>\n",
       "      <th>10</th>\n",
       "      <td>742</td>\n",
       "      <td>43901.582643</td>\n",
       "    </tr>\n",
       "    <tr>\n",
       "      <th>11</th>\n",
       "      <td>743</td>\n",
       "      <td>43903.059201</td>\n",
       "    </tr>\n",
       "    <tr>\n",
       "      <th>12</th>\n",
       "      <td>744</td>\n",
       "      <td>43904.535758</td>\n",
       "    </tr>\n",
       "    <tr>\n",
       "      <th>13</th>\n",
       "      <td>745</td>\n",
       "      <td>43906.012316</td>\n",
       "    </tr>\n",
       "    <tr>\n",
       "      <th>14</th>\n",
       "      <td>746</td>\n",
       "      <td>43907.488874</td>\n",
       "    </tr>\n",
       "    <tr>\n",
       "      <th>15</th>\n",
       "      <td>747</td>\n",
       "      <td>43908.965431</td>\n",
       "    </tr>\n",
       "    <tr>\n",
       "      <th>16</th>\n",
       "      <td>748</td>\n",
       "      <td>43910.441989</td>\n",
       "    </tr>\n",
       "    <tr>\n",
       "      <th>17</th>\n",
       "      <td>749</td>\n",
       "      <td>43911.918547</td>\n",
       "    </tr>\n",
       "    <tr>\n",
       "      <th>18</th>\n",
       "      <td>750</td>\n",
       "      <td>43913.395104</td>\n",
       "    </tr>\n",
       "    <tr>\n",
       "      <th>19</th>\n",
       "      <td>751</td>\n",
       "      <td>43914.871662</td>\n",
       "    </tr>\n",
       "    <tr>\n",
       "      <th>20</th>\n",
       "      <td>752</td>\n",
       "      <td>43916.348220</td>\n",
       "    </tr>\n",
       "    <tr>\n",
       "      <th>21</th>\n",
       "      <td>753</td>\n",
       "      <td>43917.824777</td>\n",
       "    </tr>\n",
       "    <tr>\n",
       "      <th>22</th>\n",
       "      <td>754</td>\n",
       "      <td>43919.301335</td>\n",
       "    </tr>\n",
       "    <tr>\n",
       "      <th>23</th>\n",
       "      <td>755</td>\n",
       "      <td>43920.777893</td>\n",
       "    </tr>\n",
       "    <tr>\n",
       "      <th>24</th>\n",
       "      <td>756</td>\n",
       "      <td>43922.254450</td>\n",
       "    </tr>\n",
       "    <tr>\n",
       "      <th>25</th>\n",
       "      <td>757</td>\n",
       "      <td>43923.731008</td>\n",
       "    </tr>\n",
       "    <tr>\n",
       "      <th>26</th>\n",
       "      <td>758</td>\n",
       "      <td>43925.207566</td>\n",
       "    </tr>\n",
       "    <tr>\n",
       "      <th>27</th>\n",
       "      <td>759</td>\n",
       "      <td>43926.684123</td>\n",
       "    </tr>\n",
       "    <tr>\n",
       "      <th>28</th>\n",
       "      <td>760</td>\n",
       "      <td>43928.160681</td>\n",
       "    </tr>\n",
       "    <tr>\n",
       "      <th>29</th>\n",
       "      <td>761</td>\n",
       "      <td>43929.637239</td>\n",
       "    </tr>\n",
       "  </tbody>\n",
       "</table>\n",
       "</div>"
      ],
      "text/plain": [
       "      t  Forecasted_goldprice\n",
       "0   732          43886.817066\n",
       "1   733          43888.293624\n",
       "2   734          43889.770181\n",
       "3   735          43891.246739\n",
       "4   736          43892.723297\n",
       "5   737          43894.199854\n",
       "6   738          43895.676412\n",
       "7   739          43897.152970\n",
       "8   740          43898.629527\n",
       "9   741          43900.106085\n",
       "10  742          43901.582643\n",
       "11  743          43903.059201\n",
       "12  744          43904.535758\n",
       "13  745          43906.012316\n",
       "14  746          43907.488874\n",
       "15  747          43908.965431\n",
       "16  748          43910.441989\n",
       "17  749          43911.918547\n",
       "18  750          43913.395104\n",
       "19  751          43914.871662\n",
       "20  752          43916.348220\n",
       "21  753          43917.824777\n",
       "22  754          43919.301335\n",
       "23  755          43920.777893\n",
       "24  756          43922.254450\n",
       "25  757          43923.731008\n",
       "26  758          43925.207566\n",
       "27  759          43926.684123\n",
       "28  760          43928.160681\n",
       "29  761          43929.637239"
      ]
     },
     "execution_count": 126,
     "metadata": {},
     "output_type": "execute_result"
    }
   ],
   "source": [
    "predict_data"
   ]
  },
  {
   "cell_type": "markdown",
   "id": "c33c103f",
   "metadata": {},
   "source": [
    "### Above are the predicted values for next 30days of gold prices per 10 grams."
   ]
  },
  {
   "cell_type": "code",
   "execution_count": 127,
   "id": "74a5307b",
   "metadata": {},
   "outputs": [],
   "source": [
    "latest_data = pd.concat([new_data,predict_data])\n"
   ]
  },
  {
   "cell_type": "code",
   "execution_count": 128,
   "id": "10127e58",
   "metadata": {},
   "outputs": [
    {
     "data": {
      "text/plain": [
       "<AxesSubplot:>"
      ]
     },
     "execution_count": 128,
     "metadata": {},
     "output_type": "execute_result"
    },
    {
     "data": {
      "image/png": "[encoded data removed]",
      "text/plain": [
       "<Figure size 1080x432 with 1 Axes>"
      ]
     },
     "metadata": {
      "needs_background": "light"
     },
     "output_type": "display_data"
    }
   ],
   "source": [
    "latest_data[['Gold_Price','Forecasted_goldprice']].reset_index(drop=True).plot(figsize=(15,6))"
   ]
  },
  {
   "cell_type": "code",
   "execution_count": null,
   "id": "857cca0b",
   "metadata": {},
   "outputs": [],
   "source": []
  },
  {
   "cell_type": "code",
   "execution_count": null,
   "id": "26c91907",
   "metadata": {},
   "outputs": [],
   "source": []
  },
  {
   "cell_type": "code",
   "execution_count": null,
   "id": "35366729",
   "metadata": {},
   "outputs": [],
   "source": []
  },
  {
   "cell_type": "code",
   "execution_count": null,
   "id": "1e4bccdd",
   "metadata": {},
   "outputs": [],
   "source": []
  }
 ],
 "metadata": {
  "kernelspec": {
   "display_name": "Python 3",
   "language": "python",
   "name": "python3"
  },
  "language_info": {
   "codemirror_mode": {
    "name": "ipython",
    "version": 3
   },
   "file_extension": ".py",
   "mimetype": "text/x-python",
   "name": "python",
   "nbconvert_exporter": "python",
   "pygments_lexer": "ipython3",
   "version": "3.8.8"
  }
 },
 "nbformat": 4,
 "nbformat_minor": 5
}
